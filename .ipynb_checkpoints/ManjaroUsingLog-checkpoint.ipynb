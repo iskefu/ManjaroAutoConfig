{
 "cells": [
  {
   "cell_type": "markdown",
   "metadata": {},
   "source": [
    "# 安装 Manjaro Linux 后\n",
    "## 排列源"
   ]
  },
  {
   "cell_type": "code",
   "execution_count": null,
   "metadata": {
    "vscode": {
     "languageId": "shellscript"
    }
   },
   "outputs": [],
   "source": [
    "%%bash\n",
    "sudo pacman-mirrors -i -c China -m rank"
   ]
  },
  {
   "cell_type": "markdown",
   "metadata": {},
   "source": [
    "## 更新源列表"
   ]
  },
  {
   "cell_type": "code",
   "execution_count": null,
   "metadata": {
    "scrolled": true,
    "vscode": {
     "languageId": "shellscript"
    }
   },
   "outputs": [],
   "source": [
    "%%bash\n",
    "sudo pacman -Syy --noconfirm"
   ]
  },
  {
   "cell_type": "markdown",
   "metadata": {},
   "source": [
    "## 增加cn仓库"
   ]
  },
  {
   "cell_type": "code",
   "execution_count": null,
   "metadata": {
    "vscode": {
     "languageId": "shellscript"
    }
   },
   "outputs": [],
   "source": [
    "%%debug\n",
    "sudo echo \"[archlinuxcn]\n",
    "SigLevel = Optional TrustAll\n",
    "Server = https://mirrors.aliyun.com/archlinuxcn/\\$arch\" >> /etc/pacman.conf"
   ]
  },
  {
   "cell_type": "markdown",
   "metadata": {},
   "source": [
    "## 安装 archlinuxcn 签名钥匙 & antergos 签名钥匙"
   ]
  },
  {
   "cell_type": "code",
   "execution_count": null,
   "metadata": {
    "vscode": {
     "languageId": "shellscript"
    }
   },
   "outputs": [],
   "source": [
    "%%bash\n",
    "sudo pacman -Sy archlinuxcn-keyring haveged --noconfirm\n",
    "sudo systemctl enable haveged\n",
    "sudo pacman-key --init\n",
    "sudo pacman-key --populate manjaro \n",
    "sudo pacman-key --populate archlinux\n",
    "sudo pacman-key --populate archlinuxcn"
   ]
  },
  {
   "cell_type": "markdown",
   "metadata": {},
   "source": [
    "## 升级系统"
   ]
  },
  {
   "cell_type": "code",
   "execution_count": null,
   "metadata": {
    "vscode": {
     "languageId": "shellscript"
    }
   },
   "outputs": [],
   "source": [
    "%%bash\n",
    "sudo pacman -Syyu --noconfirm"
   ]
  },
  {
   "cell_type": "markdown",
   "metadata": {},
   "source": [
    "# 基本配置\n",
    "## Sudo 免密码"
   ]
  },
  {
   "cell_type": "code",
   "execution_count": null,
   "metadata": {
    "vscode": {
     "languageId": "shellscript"
    }
   },
   "outputs": [],
   "source": [
    "%%bash\n",
    "# sudo echo \"Defaults:$USER authenticate\" >> /etc/sudoers\n"
   ]
  },
  {
   "cell_type": "markdown",
   "metadata": {},
   "source": [
    "## 安装yay"
   ]
  },
  {
   "cell_type": "code",
   "execution_count": null,
   "metadata": {
    "vscode": {
     "languageId": "shellscript"
    }
   },
   "outputs": [],
   "source": [
    "%%bash\n",
    "sudo pacman -S yay --noconfirm"
   ]
  },
  {
   "cell_type": "markdown",
   "metadata": {},
   "source": [
    "## install 输入法"
   ]
  },
  {
   "cell_type": "code",
   "execution_count": null,
   "metadata": {
    "vscode": {
     "languageId": "shellscript"
    }
   },
   "outputs": [],
   "source": [
    "%%bash\n",
    "yay -S manjaro-asian-input-support-fcitx5 fcitx5 fcitx5-configtool fcitx5-chinese-addons fcitx5-qt fcitx5-gtk --noconfirm"
   ]
  },
  {
   "cell_type": "code",
   "execution_count": 44,
   "metadata": {
    "vscode": {
     "languageId": "shellscript"
    }
   },
   "outputs": [
    {
     "name": "stdout",
     "output_type": "stream",
     "text": [
      "export GTK_IM_MODULE=fcitx\n",
      "export QT_IM_MODULE=fcitx\n",
      "export XMODIFIERS=@im=fcitx\n",
      "export LANG=\"zh_CN.UTF-8\"\n",
      "export LC_CTYPE=\"zh_CN.UTF-8\"\n"
     ]
    }
   ],
   "source": [
    "%%bash\n",
    "echo 'export GTK_IM_MODULE=fcitx\n",
    "export QT_IM_MODULE=fcitx\n",
    "export XMODIFIERS=@im=fcitx\n",
    "export LANG=\"zh_CN.UTF-8\"\n",
    "export LC_CTYPE=\"zh_CN.UTF-8\"'  >>  ~/.xprofile"
   ]
  },
  {
   "cell_type": "markdown",
   "metadata": {},
   "source": [
    "## Dock栏配置\n",
    "\n",
    "## Alt space 快速启动配置\n",
    "\n",
    "## 系统配置\n",
    "\n",
    "\n",
    "- 外观\n",
    "\t- 主题 sweet\n",
    "\t\t- 窗口装饰元素\n",
    "\t\t\t- 大\n",
    "\t\t- 字体\n",
    "\t\t\t- 思源\n",
    "- 硬件\n",
    "\t- 手动安装nvidia\n",
    "- 语言包\n",
    "\t- if has ，than install\n",
    "- 工作区行为\n",
    "\t- 常规\n",
    "\t\t- 滚动条\n",
    "\t\t\t- 直接\n",
    "\t- 屏幕边缘\n",
    "\t\t- 四分\n",
    "\t\t\t- 10%\n",
    "\t- 桌面特效\n",
    "\t- 锁屏\n",
    "\t\t- 密码解锁\n",
    "\t- 最近文件\n",
    "\t\t- 历史记录\n",
    "- 窗口管理\n",
    "\t- 任务切换\n",
    "\t\t- 缩略图网格\n",
    "- 语言区域\n",
    "\t- 时间日期\n",
    "\t\t- 自动\n",
    "- 应用程序\n",
    "\t- 默认\n",
    "\t\t- edge浏览器\n",
    "- 输入设备\n",
    "\t- 键盘\n",
    "\t\t- Numlock\n",
    "\t\t\t- 打开\n",
    "\t- 鼠标\n",
    "\t\t- 加速\n",
    "\t\t\t- 取决于速度\n",
    "\t- 触摸板\n",
    "\t\t- 速度\n",
    "\t\t\t- 0.8\n",
    "\t\t- 滚动\n",
    "\t\t\t- 反向\n",
    "- 蓝牙\n",
    "\t- 登陆\n",
    "\t\t- 禁用\n",
    "\n",
    "## 启用AUR支持\n",
    "\n",
    "应用商店\n",
    "    首选项\n",
    "        第三方\n"
   ]
  },
  {
   "cell_type": "markdown",
   "metadata": {},
   "source": [
    "## NVIDIA install \n",
    "### 自动安装"
   ]
  },
  {
   "cell_type": "code",
   "execution_count": null,
   "metadata": {
    "vscode": {
     "languageId": "shellscript"
    }
   },
   "outputs": [],
   "source": [
    "%%debug\n",
    "sudo mhwd -a pci nonfree 0300 --noconfirm\n",
    "reboot\n",
    "nvidia-smi"
   ]
  },
  {
   "cell_type": "markdown",
   "metadata": {},
   "source": [
    "### 手动安装"
   ]
  },
  {
   "cell_type": "code",
   "execution_count": null,
   "metadata": {
    "vscode": {
     "languageId": "shellscript"
    }
   },
   "outputs": [],
   "source": [
    "%%bash\n",
    "sudo pacman -Syu\n",
    "lspci -vnn | grep VGA # see driver information\n",
    "# download driver from official website \n",
    "uname -r # see kernel version and install \n",
    "sudo pacman -S base-devel dkms --noconfirm # install development tools"
   ]
  },
  {
   "cell_type": "code",
   "execution_count": null,
   "metadata": {
    "vscode": {
     "languageId": "shellscript"
    }
   },
   "outputs": [],
   "source": [
    "%%bash\n",
    "sudo pacman -S linux66-headers --noconfirm # install headers for kernel version\n",
    "# set up grub \n",
    "sudo nano /etc/default/grub \n",
    "# modify the line to include the following: \n",
    "# GRUB_CMDLINE_LINUX=\"nouveau.modeset=0\"  \n"
   ]
  },
  {
   "cell_type": "code",
   "execution_count": null,
   "metadata": {
    "vscode": {
     "languageId": "shellscript"
    }
   },
   "outputs": [],
   "source": [
    "%%bash\n",
    "sudo update-grub \n",
    "reboot\n",
    "# sudo ./NVIDIA-Linux-*.run \n",
    "# reboot"
   ]
  },
  {
   "cell_type": "markdown",
   "metadata": {},
   "source": [
    "# 软件"
   ]
  },
  {
   "cell_type": "code",
   "execution_count": null,
   "metadata": {
    "vscode": {
     "languageId": "shellscript"
    }
   },
   "outputs": [],
   "source": [
    "%%bash\n",
    "# Install Obsidian\n",
    "sudo pacman -S obsidian --noconfirm\n",
    "\n",
    "# Install Visual Studio Code\n",
    "yay -S visual-studio-code-bin --noconfirm\n",
    "\n",
    "\n",
    "## Sublime text\n",
    "yay -S sublime-text-4 --noconfirm\n",
    "# Shift+Ctrl+P\n",
    "# Install Package\n",
    "# ChineseLocalizations\n",
    "\n",
    "## syncthing\n",
    "yay -S syncthing\n",
    "\n",
    "# uget\n",
    "sudo pacman -S uget aria2 --noconfirm\n",
    "\n",
    "## Kdenlive\n",
    "yay -S kdenlive  --noconfirm\n",
    "\n",
    "## Telegram\n",
    "yay -S telegram-desktop --noconfirm\n",
    "\n",
    "## OBS Studio\n",
    "sudo pacman -S obs-studio --noconfirm\n",
    "\n",
    "## Google Chrome\n",
    "yay -S google-chrome  --noconfirm     \n",
    "\n",
    "## Ventoy\n",
    "yay -S Ventoy --noconfirm\n",
    "\n",
    "## ffmpeg\n",
    "yay -S ffmpeg --noconfirm\n"
   ]
  },
  {
   "cell_type": "code",
   "execution_count": null,
   "metadata": {
    "vscode": {
     "languageId": "shellscript"
    }
   },
   "outputs": [],
   "source": [
    "## 终端代理 proxychains\n",
    "sudo pacman -S proxychains-ng --noconfirm\n",
    "kate /etc/proxychains.conf\n",
    "# socks4 192.168.43.1 1080\n",
    "# socks4 \t127.0.0.1 9050\n",
    "# usage: proxychains4 wget https://www.google.com\n"
   ]
  },
  {
   "cell_type": "code",
   "execution_count": null,
   "metadata": {
    "vscode": {
     "languageId": "shellscript"
    }
   },
   "outputs": [],
   "source": [
    "## docker\n",
    "sudo pacman -Syu --noconfirm\n",
    "sudo pacman -S docker --noconfirm\n",
    "sudo systemctl start docker.service \n",
    "sudo systemctl enable docker.service\n",
    "sudo docker version\n",
    "sudo docker info \n",
    "sudo usermod -aG docker $USER\n",
    "reboot\n",
    "sudo nano /etc/docker/daemon.json\n",
    "{\n",
    "  \"registry-mirrors\": [\"https://docker.mirrors.ustc.edu.cn\"]\n",
    "}"
   ]
  },
  {
   "cell_type": "code",
   "execution_count": null,
   "metadata": {
    "vscode": {
     "languageId": "shellscript"
    }
   },
   "outputs": [],
   "source": [
    "%%bash\n",
    "# conda\n",
    "yay -S miniconda3 --noconfirm\n"
   ]
  },
  {
   "cell_type": "code",
   "execution_count": null,
   "metadata": {
    "vscode": {
     "languageId": "shellscript"
    }
   },
   "outputs": [],
   "source": [
    "%%bash\n",
    "sudo echo \"export PATH=/opt/miniconda3/bin:\\$PATH\" >> ~/.zshrc\n"
   ]
  },
  {
   "cell_type": "code",
   "execution_count": null,
   "metadata": {
    "vscode": {
     "languageId": "shellscript"
    }
   },
   "outputs": [],
   "source": [
    "%%bash\n",
    "source ~/.zshrc\n",
    "conda config --add channels https://mirrors.ustc.edu.cn/anaconda/cloud/conda-forge\n",
    "conda config --set show_channel_urls yes"
   ]
  },
  {
   "cell_type": "markdown",
   "metadata": {},
   "source": [
    "# 常见问题处理"
   ]
  },
  {
   "cell_type": "code",
   "execution_count": null,
   "metadata": {
    "vscode": {
     "languageId": "shellscript"
    }
   },
   "outputs": [],
   "source": [
    "# 安装被锁定的问题\n",
    "  sudo rm /var/lib/pacman/db.lck\n",
    "\n",
    "# 无法注册数据库\n",
    "  sudo mv /etc/lsb-release /etc/lsb-release.bak\n",
    "  sudo rm -rf /etc/lsb-release.bak\n",
    "\n",
    "# 无法提交处理（有冲突的文件）\n",
    "  # 编辑 /etc/pacman.conf 文件，修改服务器地址\n",
    "  sudo gedit /etc/pacman.conf\n",
    "\n",
    "# 更新失败\n",
    "  sudo pacman -Syu --ignore <package_name>"
   ]
  },
  {
   "cell_type": "markdown",
   "metadata": {},
   "source": [
    "\n",
    "# 卸载软件\n"
   ]
  },
  {
   "cell_type": "code",
   "execution_count": null,
   "metadata": {
    "vscode": {
     "languageId": "shellscript"
    }
   },
   "outputs": [],
   "source": [
    "\n",
    "sudo pacman -R <package_name>  # 卸载软件\n",
    "sudo pacman -Rsc <package_name>  # 卸载软件并清理依赖和缓存"
   ]
  }
 ],
 "metadata": {
  "kernelspec": {
   "display_name": "Python 3 (ipykernel)",
   "language": "python",
   "name": "python3"
  },
  "language_info": {
   "codemirror_mode": {
    "name": "ipython",
    "version": 3
   },
   "file_extension": ".py",
   "mimetype": "text/x-python",
   "name": "python",
   "nbconvert_exporter": "python",
   "pygments_lexer": "ipython3",
   "version": "3.12.2"
  }
 },
 "nbformat": 4,
 "nbformat_minor": 4
}
