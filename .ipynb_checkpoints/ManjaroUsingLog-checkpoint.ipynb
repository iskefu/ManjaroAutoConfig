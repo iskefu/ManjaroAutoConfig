{
 "cells": [
  {
   "cell_type": "markdown",
   "metadata": {},
   "source": [
    "排列源"
   ]
  },
  {
   "cell_type": "code",
   "execution_count": 2,
   "metadata": {
    "vscode": {
     "languageId": "shellscript"
    }
   },
   "outputs": [
    {
     "name": "stdout",
     "output_type": "stream",
     "text": [
      "::\u001b[1;37m信息\u001b[1;m 从下载镜像 Manjaro\n",
      "::\u001b[1;37m信息\u001b[1;m => Mirror pool: https://repo.manjaro.org/mirrors.json\n",
      "::\u001b[1;37m信息\u001b[1;m => Mirror status: https://repo.manjaro.org/status.json\n",
      "::\u001b[1;37m信息\u001b[1;m 使用自定义镜像文件\n",
      "::\u001b[1;37m信息\u001b[1;m 查询镜像 - 这可能需要一些时间\n",
      "  \u001b[1;32m0.631\u001b[1;m    : https://mirrors.pku.edu.cn/manjaro/\n",
      "  \u001b[1;32m0.628\u001b[1;m    : https://mirror.nju.edu.cn/manjaro/\n",
      "  \u001b[1;32m3.463\u001b[1;m    : https://mirrors.aliyun.com/manjaro/\n",
      "  \u001b[1;32m0.540\u001b[1;m    : https://mirrors.ustc.edu.cn/manjaro/\n",
      "  \u001b[1;32m0.690\u001b[1;m    : https://mirrors.tuna.tsinghua.edu.cn/manjaro/\n",
      "  \u001b[1;32m1.128\u001b[1;m    : https://mirrors.sjtug.sjtu.edu.cn/manjaro/\n",
      "  \u001b[1;32m0.774\u001b[1;m    : https://mirrors.jlu.edu.cn/manjaro/\n",
      "  \u001b[1;32m1.530\u001b[1;m    : https://mirror.nyist.edu.cn/manjaro/\n",
      "::\u001b[1;37m信息\u001b[1;m 用户生成的镜像列表\n",
      "::------------------------------------------------------------\u001b[1;m\n",
      "::\u001b[1;37m信息\u001b[1;m 已保存的自定义镜像文件: /var/lib/pacman-mirrors/custom-mirrors.json\n",
      "::\u001b[1;37m信息\u001b[1;m 写入镜像列表\n",
      "::China           : https://mirrors.aliyun.com/manjaro/stable/$repo/$arch\u001b[1;m\n",
      "::\u001b[1;37m信息\u001b[1;m 镜像列表已生成并保存至: /etc/pacman.d/mirrorlist\n"
     ]
    }
   ],
   "source": [
    "sudo pacman-mirrors -i -c China -m rank\n"
   ]
  },
  {
   "cell_type": "code",
   "execution_count": null,
   "metadata": {},
   "outputs": [],
   "source": []
  },
  {
   "cell_type": "markdown",
   "metadata": {},
   "source": []
  }
 ],
 "metadata": {
  "kernelspec": {
   "display_name": "Python 3 (ipykernel)",
   "language": "python",
   "name": "python3"
  },
  "language_info": {
   "codemirror_mode": {
    "name": "ipython",
    "version": 3
   },
   "file_extension": ".py",
   "mimetype": "text/x-python",
   "name": "python",
   "nbconvert_exporter": "python",
   "pygments_lexer": "ipython3",
   "version": "3.12.2"
  }
 },
 "nbformat": 4,
 "nbformat_minor": 2
}
